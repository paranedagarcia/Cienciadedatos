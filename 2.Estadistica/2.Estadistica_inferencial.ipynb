{
 "cells": [
  {
   "cell_type": "markdown",
   "id": "ef1e42f0",
   "metadata": {},
   "source": [
    "# De la Muestra a la Población: El Rol de la Inferencia Estadística\n",
    "\n",
    "Una vez que hemos descrito y comprendido nuestros datos a través de la estadística descriptiva, surge una pregunta mucho más ambiciosa y potente: ¿qué podemos aprender de estos datos específicos para aplicarlo a un grupo más amplio? Este es el corazón de la **inferencia estadística**, la rama de la estadística que utiliza técnicas para sacar conclusiones o generalizaciones sobre las características de una población completa a partir del análisis de una muestra representativa. Mientras que la estadística descriptiva se queda en el nivel de los datos observados y ofrece conclusiones exactas sobre ellos, la inferencia estadística introduce el concepto de la incertidumbre y el error probabilístico, reconociendo que estamos extrapolar información. Esta capacidad de generalización es fundamental en la ciencia de datos, ya que raramente se dispone de datos completos de toda una población; en su lugar, se trabajan muestras para predecir tendencias, probar hipótesis y validar modelos.\n",
    "\n",
    "El principio rector que permite esta magia de la inferencia es el **Teorema Central del Límite (TCL)**. Este teorema establece que, dada una población con media μ y desviación estándar σ finitas, la distribución de las medias de las muestras de tamaño *n* tomadas de esa población se aproximará a una distribución normal (una campana de Gauss) a medida que el tamaño de la muestra *n* aumenta, sin importar la forma de la distribución de la población original. Esto es extraordinariamente poderoso porque significa que incluso si los datos individuales de una población no siguen una distribución normal, las medias de las muestras sí lo harán. Esta normalidad de las medias muestrales es la piedra angular que sostiene muchos de los tests de hipótesis y los intervalos de confianza utilizados en la ciencia de datos.\n",
    "\n",
    "Dos de los pilares de la inferencia estadística son los **intervalos de confianza** y las **pruebas de hipótesis**.\n",
    "\n",
    "## Intervalos de Confianza\n",
    "*   **Intervalos de Confianza:** Un intervalo de confianza es un rango de valores, derivado de los datos de una muestra, que probablemente contenga el valor verdadero de un parámetro poblacional desconocido. Por ejemplo, si estimamos que la altura media de los hombres adultos en una ciudad es de 175 cm con un intervalo de confianza del 95%, significa que tenemos un 95% de certeza de que la altura media real de la población de hombres adultos se encuentra dentro de ese rango [[14]]. El margen de error del 5% (100% - 95%) refleja nuestra tolerancia al riesgo de estar equivocados [[14]]. Si el intervalo de confianza para la diferencia de efectividad entre dos tratamientos de prueba no incluye el valor nulo (por ejemplo, 0 para una diferencia de medias), podemos concluir que la diferencia es estadísticamente significativa [[14]].\n",
    "\n",
    "## Pruebas de Hipótesis\n",
    "*   **Pruebas de Hipótesis:** Este es un método formal para probar una afirmación o idea sobre una propiedad de una población. Se comienza con una **hipótesis nula (H₀)**, que representa una afirmación de \"no cambio\" o \"no efecto\" (por ejemplo, \"el nuevo diseño de un sitio web no afecta las ventas\"). Se contrasta con una **hipótesis alternativa (H₁)**, que es lo que queremos probar (por ejemplo, \"el nuevo diseño aumenta las ventas\"). El análisis de los datos de la muestra produce un **valor p**, que es la probabilidad de obtener los resultados observados (o más extremos) si la hipótesis nula fuera verdadera [[10,11]]. Un valor p bajo (comúnmente por debajo de un umbral de 0.05) sugiere que los datos observados son poco probables bajo la hipótesis nula, llevándonos a rechazar H₀ a favor de H₁ [[11]]. Es importante entender que el valor p no mide la probabilidad de que la hipótesis nula sea verdadera, sino la plausibilidad de los datos dados que la hipótesis sea verdadera [[11]]. Existen dos tipos de errores posibles: el **error de tipo I** (rechazar una hipótesis nula verdadera, también conocido como falso positivo) y el **error de tipo II** (fallar en rechazar una hipótesis nula falsa, un falso negativo) [[10]].\n",
    "\n",
    "La inferencia estadística, por tanto, es el puente que conecta los datos observados con el conocimiento generalizable. Permite a los científicos de datos ir más allá de la simple descripción para formular afirmaciones basadas en evidencia, estimar magnitudes, probar causalidades y tomar decisiones estratégicas con una comprensión cuantitativa de la incertidumbre inherente a trabajar con muestras."
   ]
  }
 ],
 "metadata": {
  "language_info": {
   "name": "python"
  }
 },
 "nbformat": 4,
 "nbformat_minor": 5
}
