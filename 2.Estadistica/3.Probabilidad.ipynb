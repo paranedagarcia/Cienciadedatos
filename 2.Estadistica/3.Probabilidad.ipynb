{
 "cells": [
  {
   "cell_type": "markdown",
   "id": "ed6cb27e",
   "metadata": {},
   "source": [
    "# Fundamentos de la Incertidumbre: La Teoría de la Probabilidad\n",
    "\n",
    "Para que la inferencia estadística funcione, es necesario contar con un lenguaje preciso para cuantificar la incertidumbre. Ese lenguaje es la **teoría de la probabilidad**. La probabilidad es una rama de las matemáticas que asigna un número entre 0 y 1 (o entre 0% y 100%) a la ocurrencia de un evento, donde 0 significa que es imposible y 1 significa que es seguro. En el contexto de la ciencia de datos, la probabilidad nos permite modelar y gestionar la aleatoriedad inherente a casi todos los fenómenos del mundo real. Desde la incertidumbre en las mediciones experimentales hasta la variabilidad en el comportamiento del consumidor, la probabilidad proporciona los instrumentos para expresar y analizar esta incertidumbre de manera sistemática.\n",
    "\n",
    "Un concepto central en la probabilidad es el de **variable aleatoria**. Una variable aleatoria es una función que asigna un resultado numérico a cada posible resultado de un experimento aleatorio. Hay dos tipos principales:\n",
    "*   **Variables Aleatorias Discretas:** Toman un número contable de valores, típicamente enteros. Ejemplos incluyen el número de caras al lanzar una moneda varias veces o el número de clientes que llegan a una tienda en una hora. La probabilidad de cada valor posible se describe mediante una **función de masa de probabilidad (PMF)**.\n",
    "*   **Variables Aleatorias Continuas:** Pueden tomar cualquier valor numérico dentro de un intervalo o rango continuo. Ejemplos incluyen la altura de una persona, el tiempo que tarda en llegar un autobús o la temperatura en un día determinado. La probabilidad de que una variable continua tome un valor específico es cero; en su lugar, se habla de la probabilidad de que caiga dentro de un cierto rango. Esta probabilidad se describe mediante una **función de densidad de probabilidad (PDF)**, donde el área bajo la curva entre dos puntos representa la probabilidad de que la variable caiga en ese intervalo.\n",
    "\n",
    "A partir de las variables aleatorias, se definen las **distribuciones de probabilidad**, que describen cómo se distribuyen las probabilidades de los posibles valores de una variable aleatoria. Como mencionamos anteriormente, algunas distribuciones son tan comunes que se han convertido en herramientas esenciales en la ciencia de datos. La elección de una distribución para modelar un fenómeno de datos no es arbitraria; se basa en la naturaleza del problema: el tipo de datos (discreto o continuo), la simetría esperada, los límites de los valores y la frecuencia de los valores extremos.\n",
    "\n",
    "Aquí hay una tabla que resume algunas de las distribuciones de probabilidad más importantes y sus aplicaciones en la ciencia de datos:\n",
    "\n",
    "| Distribución | Tipo | Parámetros Clave | Aplicaciones Comunes |\n",
    "| :--- | :--- | :--- | :--- | \n",
    "| **Normal / Gaussiana** | Continua | Media (μ), Desviación Estándar (σ) | Modelado de errores de medición, alturas, IQ, rendimientos de activos financieros, residuos de modelos lineales. |\n",
    "| **Binomial** | Discreta | Número de ensayos (n), Probabilidad de éxito (p) | Resultados de experimentos con dos salidas (éxito/fracaso), tasas de conversión, pruebas clínicas. |\n",
    "| **Poisson** | Discreta | Tasa media de eventos (λ) | Modelado de conteos de eventos raros en un intervalo (tiempo, espacio), llamadas a un centro de atención, fallos de hardware. |\n",
    "| **Uniforme** | Discreta o Continua | Mínimo (a), Máximo (b) | Generadores de números aleatorios, escenarios donde todos los resultados son igualmente probables. |\n",
    "| **Exponencial** | Continua | Tasa (μ) | Modelado del tiempo entre eventos en un proceso de Poisson (tiempo de espera, vida útil de componentes). |\n",
    "| **t de Student** | Continua | Grados de libertad (df) | Inferencia sobre medias cuando la desviación estándar de la población es desconocida y los datos son pequeños. |\n",
    "| **Chi-cuadrado** | Continua | Grados de libertad (df) | Pruebas de bondad de ajuste, pruebas de independencia en tablas de contingencia (prueba Chi-cuadrado). |\n",
    "\n",
    "En resumen, la probabilidad no es solo un tema teórico; es una herramienta práctica para modelar el mundo tal como es: lleno de incertidumbre. Proporciona la base matemática para todo lo que sigue: desde el Teorema Central del Límite hasta la construcción de intervalos de confianza y las pruebas de hipótesis. Para cualquier aspirante a científico de datos, dominar la intuición detrás de estas distribuciones y saber cuándo aplicarlas es un paso decisivo hacia un análisis de datos más profundo y riguroso.\n",
    "\n",
    "## Dominando las Distribuciones: Herramientas para Modelar Fenómenos Reales\n",
    "\n",
    "Si la probabilidad es el lenguaje de la incertidumbre, entonces las **distribuciones de probabilidad** son sus vocablos más importantes. Son modelos matemáticos que describen cómo se distribuyen las probabilidades de los posibles resultados de una variable aleatoria. En la ciencia de datos, elegir la distribución correcta para modelar un conjunto de datos es un acto de comprensión profunda del fenómeno subyacente. No todas las distribuciones son iguales, y su uso adecuado puede ser la diferencia entre un modelo predictivo exitoso y uno que falla rotundamente. Las distribuciones pueden clasificarse principalmente en discretas y continuas, dependiendo de si la variable aleatoria toma un conjunto contable de valores o un rango continuo.\n",
    "\n",
    "### Distribución Normal\n",
    "\n",
    "La distribución **normal**, también conocida como **gaussiana** o **campana de Gauss**, es quizás la distribución más famosa y utilizada. Su importancia radica en gran medida en el **Teorema Central del Límite**, que garantiza que la suma de muchas variables aleatorias independientes e idénticamente distribuidas tenderá a distribuirse normalmente. Esto explica por qué la distribución normal aparece tan comúnmente en la naturaleza y en la sociedad, desde las medidas antropométricas como la altura y el peso, pasando por los errores de medición, hasta los coeficientes de inteligencia (CI). \n",
    "\n",
    "La distribución normal está completamente definida por dos parámetros: \n",
    "* su media (μ), que determina el centro de la campana, y su desviación estándar (σ), que determina su anchura o dispersión. Una característica notable es la **regla empírica o regla 68-95-99.7**: aproximadamente el 68% de los datos caen dentro de una desviación estándar de la media, el 95% dentro de dos desviaciones estándar y el 99.7% dentro de tres. Esta regla proporciona una intuición rápida sobre la dispersión de los datos. \n",
    "* la distribución normal estándar, con μ=0 y σ=1, es una versión universalizada que se usa para calcular probabilidades a través de los **puntajes z** (que indican cuántas desviaciones estándar está un valor de la media)."
   ]
  },
  {
   "cell_type": "markdown",
   "id": "79858775",
   "metadata": {},
   "source": [
    "### Distribución Binomial\n",
    "\n",
    "Otra distribución fundamental es la **binomial**. Modela el número de éxitos en un número fijo de ensayos independientes (*n*), donde cada ensayo tiene la misma probabilidad de éxito (*p*). Ejemplos clásicos incluyen el número de caras en 10 lanzamientos de una moneda justa o el número de pacientes que responden a un tratamiento en un ensayo clínico. La forma de la distribución binomial depende de *p*: es simétrica si *p*=0.5 y asimétrica si *p* es diferente de 0.5. Cuando el número de ensayos *n* es grande y la probabilidad de éxito *p* es pequeña, la distribución binomial puede aproximarse bien por una distribución de Poisson."
   ]
  },
  {
   "cell_type": "markdown",
   "id": "ea040dc5",
   "metadata": {},
   "source": [
    "### Distribución de Poisson\n",
    "\n",
    "La distribución **de Poisson** modela el número de veces que ocurre un evento en un intervalo de tiempo o espacio fijo, dado que estos eventos ocurren con una tasa media constante (*λ*) y son independientes del tiempo transcurrido desde el último evento. Es ideal para fenómenos de conteo, como el número de correos electrónicos que recibes por hora, el número de accidentes en una intersección al día o el número de imperfecciones en un rollo de tela. Un hecho interesante es que tanto la media como la varianza de una distribución de Poisson son iguales a λ. A medida que λ se hace grande (generalmente > 10 o > 30), la distribución de Poisson se vuelve más simétrica y puede aproximarse por una distribución normal."
   ]
  },
  {
   "cell_type": "markdown",
   "id": "b1f99296",
   "metadata": {},
   "source": [
    "### Distribución Exponencial\n",
    "\n",
    "Por último, la distribución **exponencial** está estrechamente relacionada con la distribución de Poisson. Mientras que la distribución de Poisson modela el número de eventos, la distribución exponencial modela el tiempo que transcurre entre dichos eventos en un proceso de Poisson. Es decir, si sabemos que los clientes llegan a un negocio a una tasa media de λ por hora (distribución de Poisson), la distribución exponencial nos dirá la probabilidad de cuánto tiempo pasará antes de que llegue el próximo cliente. Esta distribución es continua y esencial para modelar tiempos de vida útil o tiempos de espera."
   ]
  },
  {
   "cell_type": "markdown",
   "id": "d8cb03c9",
   "metadata": {},
   "source": [
    "La elección de la distribución correcta es una habilidad crítica. Por ejemplo, la resolución de un sensor de precisión podría modelarse con una distribución rectangular (donde todos los valores dentro de un rango son igualmente probables). El tiempo de respuesta de un servidor web podría seguir una distribución exponencial. La distribución log-normal, que es asimétrica hacia la derecha, es útil para modelar variables que no pueden ser negativas y tienen una larga cola a la derecha, como los salarios o el tamaño de las células. El GUM (Guía para la Expresión de la Incertidumbre en el Metrología) recomienda estas distribuciones según el tipo de conocimiento disponible sobre los límites y la probabilidad de los valores. Dominar estas distribuciones permite al científico de datos construir modelos más realistas y robustos, capaces de capturar la esencia de los datos que están analizando."
   ]
  }
 ],
 "metadata": {
  "language_info": {
   "name": "python"
  }
 },
 "nbformat": 4,
 "nbformat_minor": 5
}
