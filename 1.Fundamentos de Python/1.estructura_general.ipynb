{
 "cells": [
  {
   "cell_type": "markdown",
   "metadata": {},
   "source": [
    "# Estructura General de un Programa en Python\n",
    "\n",
    "Este notebook describe las **etapas estándar** en la construcción de un programa en Python, desde la planificación hasta la documentación. Aunque no todos los programas requieren cada sección (por ejemplo, scripts simples pueden omitir clases o pruebas), esta estructura representa una **buena práctica** para proyectos mantenibles, legibles y profesionales.\n",
    "\n",
    "La estructura sigue convenciones ampliamente aceptadas en la comunidad Python (PEP 8, Zen of Python) y está alineada con buenas prácticas de ingeniería de software."
   ]
  },
  {
   "cell_type": "markdown",
   "metadata": {},
   "source": [
    "## 1. Comentarios Iniciales y Licencia \n",
    "*Opcional pero recomendado*\n",
    "\n",
    "Al inicio del archivo, es común incluir:\n",
    "- Una **docstring** que describe el propósito del módulo.\n",
    "- Información sobre el **autor**, **fecha** y **versión**.\n",
    "- Una **licencia** de software (especialmente en proyectos públicos).\n",
    "\n",
    "Esto no es código ejecutable, pero es crucial para la documentación y el mantenimiento."
   ]
  },
  {
   "cell_type": "code",
   "execution_count": null,
   "metadata": {},
   "outputs": [],
   "source": [
    "\"\"\"\n",
    "Módulo de ejemplo: calculadora básica.\n",
    "\n",
    "Este módulo proporciona funciones para realizar operaciones aritméticas\n",
    "básicas: suma, resta, multiplicación y división.\n",
    "\n",
    "Autor: Tu Nombre\n",
    "Fecha: 2025-04-05\n",
    "Versión: 1.0\n",
    "Licencia: MIT\n",
    "\"\"\""
   ]
  },
  {
   "cell_type": "markdown",
   "metadata": {},
   "source": [
    "## 2. Importación de Módulos y Dependencias\n",
    "\n",
    "Las importaciones deben organizarse en tres bloques (según [PEP 8](https://peps.python.org/pep-0008/#imports)):\n",
    "1. **Módulos de la biblioteca estándar** (ej. `os`, `sys`, `math`).\n",
    "2. **Módulos de terceros** (ej. `numpy`, `requests`).\n",
    "3. **Módulos locales** (del propio proyecto).\n",
    "\n",
    "Cada bloque debe estar separado por una línea en blanco. Se recomienda usar imports absolutos y evitar `from module import *`."
   ]
  },
  {
   "cell_type": "code",
   "execution_count": null,
   "metadata": {},
   "outputs": [],
   "source": [
    "# 1. Biblioteca estándar\n",
    "import os\n",
    "import sys\n",
    "from typing import Union\n",
    "\n",
    "# 2. Módulos de terceros (ejemplo)\n",
    "import numpy as np\n",
    "\n",
    "# 3. Módulos locales (ejemplo)\n",
    "from . import utils"
   ]
  },
  {
   "cell_type": "markdown",
   "metadata": {},
   "source": [
    "## 3. Definición de Constantes y Variables Globales (con moderación)\n",
    "\n",
    "Las constantes (por convención, en `MAYÚSCULAS`) se definen aquí. **Evita el uso excesivo de variables globales**, ya que dificultan la depuración y el testing.\n",
    "\n",
    "Ejemplo: configuraciones, valores fijos, mensajes de error."
   ]
  },
  {
   "cell_type": "code",
   "execution_count": null,
   "metadata": {},
   "outputs": [],
   "source": [
    "# Constantes\n",
    "VERSION = \"1.0\"\n",
    "MAX_INTENTOS = 3\n",
    "\n",
    "# Mensajes de error\n",
    "ERROR_DIVISION_POR_CERO = \"No se puede dividir por cero.\""
   ]
  },
  {
   "cell_type": "markdown",
   "metadata": {},
   "source": [
    "## 4. Definición de Funciones y Clases\n",
    "\n",
    "Esta es la **parte central** de la lógica del programa.\n",
    "\n",
    "- **Funciones**: bloques reutilizables de código que realizan una tarea específica. Deben ser puras (sin efectos secundarios) cuando sea posible.\n",
    "- **Clases**: usadas para programación orientada a objetos (POO). Agrupan datos (atributos) y comportamientos (métodos).\n",
    "\n",
    "Cada función o clase debe tener una **docstring** que explique su propósito, parámetros y valor de retorno (siguiendo estándares como Google o NumPy)."
   ]
  },
  {
   "cell_type": "code",
   "execution_count": null,
   "metadata": {},
   "outputs": [],
   "source": [
    "def suma(a: Union[int, float], b: Union[int, float]) -> Union[int, float]:\n",
    "    \"\"\"\n",
    "    Suma dos números.\n",
    "    \n",
    "    Args:\n",
    "        a (int o float): Primer número.\n",
    "        b (int o float): Segundo número.\n",
    "        \n",
    "    Returns:\n",
    "        int o float: Resultado de la suma.\n",
    "    \"\"\"\n",
    "    return a + b\n",
    "\n",
    "\n",
    "def division(a: Union[int, float], b: Union[int, float]) -> Union[int, float]:\n",
    "    \"\"\"\n",
    "    Divide dos números.\n",
    "    \n",
    "    Args:\n",
    "        a (int o float): Dividendo.\n",
    "        b (int o float): Divisor.\n",
    "        \n",
    "    Returns:\n",
    "        int o float: Resultado de la división.\n",
    "        \n",
    "    Raises:\n",
    "        ValueError: Si el divisor es cero.\n",
    "    \"\"\"\n",
    "    if b == 0:\n",
    "        raise ValueError(ERROR_DIVISION_POR_CERO)\n",
    "    return a / b\n",
    "\n",
    "\n",
    "class Calculadora:\n",
    "    \"\"\"Clase que encapsula operaciones aritméticas básicas.\"\"\"\n",
    "    \n",
    "    def __init__(self):\n",
    "        self.historial = []\n",
    "    \n",
    "    def sumar(self, a, b):\n",
    "        resultado = suma(a, b)\n",
    "        self.historial.append(f\"{a} + {b} = {resultado}\")\n",
    "        return resultado"
   ]
  },
  {
   "cell_type": "markdown",
   "metadata": {},
   "source": [
    "## 5. Código Principal (Main Guard)\n",
    "\n",
    "El bloque `if __name__ == \"__main__\":` es una **convención esencial** en Python. Asegura que el código dentro de este bloque **solo se ejecute cuando el script se corre directamente**, no cuando se importa como módulo.\n",
    "\n",
    "Aquí suele ir:\n",
    "- La lógica de entrada/salida (interacción con el usuario).\n",
    "- La llamada a la función principal (`main()`).\n",
    "- Configuración inicial (logging, argumentos de línea de comandos, etc.)."
   ]
  },
  {
   "cell_type": "code",
   "execution_count": null,
   "metadata": {},
   "outputs": [],
   "source": [
    "def main():\n",
    "    \"\"\"Función principal que orquesta la ejecución del programa.\"\"\"\n",
    "    calc = Calculadora()\n",
    "    print(\"Resultado de 10 + 5:\", calc.sumar(10, 5))\n",
    "    try:\n",
    "        print(\"Resultado de 10 / 0:\", division(10, 0))\n",
    "    except ValueError as e:\n",
    "        print(\"Error:\", e)\n",
    "\n",
    "\n",
    "if __name__ == \"__main__\":\n",
    "    # Punto de entrada del programa\n",
    "    main()"
   ]
  },
  {
   "cell_type": "markdown",
   "metadata": {},
   "source": [
    "## 6. Pruebas (Opcional en el mismo archivo, pero recomendado en archivos separados)\n",
    "\n",
    "Aunque las pruebas unitarias suelen estar en archivos separados (ej. `test_calculadora.py`), para scripts muy simples se pueden incluir al final con una guardia similar.\n",
    "\n",
    "**Buena práctica**: usa el módulo `unittest` o `pytest` en proyectos reales."
   ]
  },
  {
   "cell_type": "code",
   "execution_count": null,
   "metadata": {},
   "outputs": [],
   "source": [
    "# Ejemplo de pruebas embebidas (solo para demostración)\n",
    "def test_suma():\n",
    "    assert suma(2, 3) == 5\n",
    "    assert suma(-1, 1) == 0\n",
    "    print(\"✅ Pruebas de suma pasadas.\")\n",
    "\n",
    "\n",
    "if __name__ == \"__main__\" and \"--test\" in sys.argv:\n",
    "    test_suma()"
   ]
  },
  {
   "cell_type": "markdown",
   "metadata": {},
   "source": [
    "## Resumen de la Estructura Estándar\n",
    "\n",
    "| Sección | Propósito | ¿Obligatorio? |\n",
    "|--------|----------|---------------|\n",
    "| Comentarios iniciales | Documentación del módulo | No (pero recomendado) |\n",
    "| Importaciones | Cargar dependencias | Sí (si se usan) |\n",
    "| Constantes | Valores fijos del programa | No |\n",
    "| Funciones/Clases | Lógica principal del programa | Sí |\n",
    "| Bloque `if __name__ == \"__main__\"` | Punto de entrada | Sí (para scripts ejecutables) |\n",
    "| Pruebas | Validar el comportamiento | No (pero altamente recomendado) |\n",
    "\n",
    "Siguiendo esta estructura, tus programas serán:\n",
    "- **Más legibles** (gracias a la docstring y la organización).\n",
    "- **Más mantenibles** (separación clara de responsabilidades).\n",
    "- **Más reutilizables** (puedes importar funciones sin ejecutar el código principal).\n",
    "- **Más profesionales** (alineados con estándares de la industria)."
   ]
  },
  {
   "cell_type": "markdown",
   "metadata": {},
   "source": [
    "## Referencias Oficiales\n",
    "\n",
    "- [PEP 8 – Style Guide for Python Code](https://peps.python.org/pep-0008/)\n",
    "- [PEP 257 – Docstring Conventions](https://peps.python.org/pep-0257/)\n",
    "- [The Zen of Python (`import this`)](https://peps.python.org/pep-0020/)\n",
    "- [Python Documentation – Modules](https://docs.python.org/3/tutorial/modules.html)"
   ]
  }
 ],
 "metadata": {
  "kernelspec": {
   "display_name": "Python 3",
   "language": "python",
   "name": "python3"
  },
  "language_info": {
   "name": "python",
   "version": "3.11.0"
  }
 },
 "nbformat": 4,
 "nbformat_minor": 4
}
