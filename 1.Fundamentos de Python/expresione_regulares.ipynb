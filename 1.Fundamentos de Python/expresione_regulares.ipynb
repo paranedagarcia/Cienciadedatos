{
 "cells": [
  {
   "cell_type": "markdown",
   "id": "3148d269",
   "metadata": {},
   "source": [
    "# Expresiones Regulares en Python"
   ]
  },
  {
   "cell_type": "markdown",
   "id": "eaf059aa",
   "metadata": {},
   "source": [
    "Patricio Araneda García\n",
    "\n",
    "Marzo, 2024"
   ]
  },
  {
   "cell_type": "markdown",
   "id": "68752544",
   "metadata": {},
   "source": [
    "\n",
    "Este cuaderno explica en profundidad cómo funcionan las expresiones regulares (regex) y cómo usarlas en Python usando el módulo `re`. Presenta ejemplos de complejidad creciente — desde búsquedas simples hasta técnicas avanzadas como grupos nombrados, lookahead/lookbehind y compilación con flags — con explicaciones y pruebas ejecutables.\n",
    "\n",
    "Contenido:\n",
    "- Introducción y conceptos clave\n",
    "- Sintaxis básica y metacaracteres\n",
    "- Uso de `re.search`, `re.match`, `re.findall`, `re.finditer`, `re.sub`, `re.split`\n",
    "- Grupos, grupos nombrados y referencias\n",
    "- Modificadores (flags) y compilación\n",
    "- Lookahead/Lookbehind y atajos\n",
    "- Ejemplos prácticos (al menos 15)\n",
    "- Buenas prácticas y rendimiento"
   ]
  },
  {
   "cell_type": "markdown",
   "id": "4ab6191f",
   "metadata": {},
   "source": [
    "## Conceptos clave\n",
    "\n",
    "- Literal: caracteres que coinciden exactamente con ellos mismos (ej: `a`, `1`, `@`).\n",
    "- Metacaracteres: caracteres con significado especial (`. ^ $ * + ? { } [ ] \\ | ( )`).\n",
    "- Cuantificadores: `*` (0+), `+` (1+), `?` (0 o 1), `{m,n}` (rango).\n",
    "- Clases de caracteres: `[abc]`, `[a-z]`, `\\d` (dígitos), `\\w` (word chars), `\\s` (espacios).\n",
    "- Anclas: `^` (inicio), `$` (fin), `\\b` (límite de palabra).\n",
    "- Grupos: `( )` capturan subcoincidencias; `(?: )` grupo sin captura.\n",
    "- Flags: `re.IGNORECASE`, `re.MULTILINE`, `re.DOTALL`, etc.\n",
    "\n",
    "Carácteres especiales en cadenas raw (raw strings) en Python:\n",
    "\n",
    "- r'\\d+': Busca uno o más dígitos\n",
    "\n",
    "- \\d = cualquier dígito (0-9)\n",
    "\n",
    "- + = uno o más ocurrencias\n",
    "\n",
    "- r'' = cadena raw (no interpreta escapes)\n",
    "\n",
    "- r'\\\\d+': INCORRECTO - busca literalmente \"\\d\" seguido de \"+\"\n",
    "\n",
    "- \\\\ = barra invertida literal\n",
    "\n",
    "- d = carácter \"d\"\n",
    "\n",
    "- + = uno o más ocurrencias del patrón anterior"
   ]
  },
  {
   "cell_type": "markdown",
   "id": "1ccd8a8e",
   "metadata": {},
   "source": [
    "## Preparación: importar `re` y patrón básico\n",
    "\n",
    "Usamos el módulo estándar `re`. Recomendación: para patrones complejos, compilar el patrón con `re.compile()` y reusar el objeto compilado para ganar rendimiento y claridad.\n"
   ]
  },
  {
   "cell_type": "code",
   "execution_count": 1,
   "id": "9534b0be",
   "metadata": {},
   "outputs": [
    {
     "name": "stdout",
     "output_type": "stream",
     "text": [
      "match: cat\n",
      "span: (4, 7)\n"
     ]
    }
   ],
   "source": [
    "import re\n",
    "\n",
    "# Ejemplo mínimo: buscar la primera aparición de 'cat' en un texto\n",
    "text = 'The cat sat on the catalog of categories.'\n",
    "m = re.search(r'cat', text)\n",
    "print('match:', m.group(0) if m else None)\n",
    "print('span:', m.span() if m else None)\n"
   ]
  },
  {
   "cell_type": "markdown",
   "id": "b73c36a2",
   "metadata": {},
   "source": [
    "## Ejemplos (complejidad creciente)\n",
    "A continuación verás 18 ejemplos prácticos, cada uno con explicación y demostración ejecutable."
   ]
  },
  {
   "cell_type": "markdown",
   "id": "79d43d55",
   "metadata": {},
   "source": [
    "### Ejemplo 1 — Búsqueda simple (`re.search`)\n",
    "Buscar si una subcadena aparece en un texto."
   ]
  },
  {
   "cell_type": "code",
   "execution_count": 12,
   "id": "c8cc8a03",
   "metadata": {},
   "outputs": [
    {
     "name": "stdout",
     "output_type": "stream",
     "text": [
      "555-1234\n"
     ]
    }
   ],
   "source": [
    "# Ejemplo 1\n",
    "import re\n",
    "text = 'Mi número de teléfono es 555-1234.'\n",
    "m = re.search(r'\\d{3}-\\d{4}', text)\n",
    "print(m.group(0) if m else 'No encontrado')"
   ]
  },
  {
   "cell_type": "code",
   "execution_count": 4,
   "id": "6b67bd06",
   "metadata": {},
   "outputs": [
    {
     "name": "stdout",
     "output_type": "stream",
     "text": [
      "Ejemplo 1: Python\n"
     ]
    }
   ],
   "source": [
    "# Buscar una palabra en un texto\n",
    "texto = \"Python es un lenguaje de programación poderoso\"\n",
    "patron = r\"Python\"\n",
    "resultado = re.search(patron, texto)\n",
    "print(f\"Ejemplo 1: {resultado.group() if resultado else 'No encontrado'}\")"
   ]
  },
  {
   "cell_type": "code",
   "execution_count": 5,
   "id": "d7688829",
   "metadata": {},
   "outputs": [
    {
     "name": "stdout",
     "output_type": "stream",
     "text": [
      "Ejemplo 2: ['gato', 'perro']\n"
     ]
    }
   ],
   "source": [
    "# Buscar varias opciones usando |\n",
    "texto = \"El gato y el perro son mascotas\"\n",
    "patron = r\"gato|perro|pájaro\"\n",
    "resultados = re.findall(patron, texto)\n",
    "print(f\"Ejemplo 2: {resultados}\")"
   ]
  },
  {
   "cell_type": "code",
   "execution_count": 6,
   "id": "4a7d7231",
   "metadata": {},
   "outputs": [
    {
     "name": "stdout",
     "output_type": "stream",
     "text": [
      "Ejemplo 3 - Dígitos: ['123', '45', '99']\n",
      "Ejemplo 3 - Letras: ['Producto', 'A', 'Precio']\n"
     ]
    }
   ],
   "source": [
    "# Buscar dígitos y letras\n",
    "texto = \"Producto A123, Precio: $45.99\"\n",
    "digitos = re.findall(r\"\\d+\", texto)  # \\d coincide con dígitos\n",
    "letras = re.findall(r\"[A-Za-z]+\", texto)  # [A-Za-z] coincide con letras\n",
    "print(f\"Ejemplo 3 - Dígitos: {digitos}\")\n",
    "print(f\"Ejemplo 3 - Letras: {letras}\")"
   ]
  },
  {
   "cell_type": "code",
   "execution_count": 7,
   "id": "3fdb606c",
   "metadata": {},
   "outputs": [
    {
     "name": "stdout",
     "output_type": "stream",
     "text": [
      "Ejemplo 3 - Dígitos: ['123', '45', '99']\n",
      "Ejemplo 3 - Letras: ['Producto', 'A', 'Precio']\n"
     ]
    }
   ],
   "source": [
    "# Buscar dígitos y letras\n",
    "texto = \"Producto A123, Precio: $45.99\"\n",
    "digitos = re.findall(r\"\\d+\", texto)  # \\d coincide con dígitos\n",
    "letras = re.findall(r\"[A-Za-z]+\", texto)  # [A-Za-z] coincide con letras\n",
    "print(f\"Ejemplo 3 - Dígitos: {digitos}\")\n",
    "print(f\"Ejemplo 3 - Letras: {letras}\")"
   ]
  },
  {
   "cell_type": "markdown",
   "id": "aaa7095f",
   "metadata": {},
   "source": [
    "## Busquedas avanzadas\n",
    "### lookahead y lookbehind"
   ]
  },
  {
   "cell_type": "code",
   "execution_count": 14,
   "id": "92f0c59e",
   "metadata": {},
   "outputs": [
    {
     "name": "stdout",
     "output_type": "stream",
     "text": [
      "Ejemplo 9: ['10', '20']\n"
     ]
    }
   ],
   "source": [
    "# lokkahead positivo\n",
    "# Encontrar números seguidos de unidades\n",
    "texto = \"10kg 20lb 30cm 40m\"\n",
    "patron = r\"\\d+(?=kg|lb)\"  # Números seguidos de kg o lb\n",
    "resultados = re.findall(patron, texto)\n",
    "print(f\"Ejemplo 9: {resultados}\")"
   ]
  },
  {
   "cell_type": "code",
   "execution_count": 15,
   "id": "18f804a1",
   "metadata": {},
   "outputs": [
    {
     "name": "stdout",
     "output_type": "stream",
     "text": [
      "Ejemplo 10: ['1', '20', '30', '40']\n"
     ]
    }
   ],
   "source": [
    "# lokkahead negativo\n",
    "# Encontrar números NO seguidos de kg\n",
    "texto = \"10kg 20lb 30cm 40m\"\n",
    "patron = r\"\\d+(?!kg)\"  # Números NO seguidos de kg\n",
    "resultados = re.findall(patron, texto)\n",
    "print(f\"Ejemplo 10: {resultados}\")"
   ]
  },
  {
   "cell_type": "code",
   "execution_count": null,
   "id": "4e947226",
   "metadata": {},
   "outputs": [],
   "source": [
    "# lokkbehind positivo\n",
    "# Encontrar texto precedido por un patrón específico\n",
    "texto = \"Precio: $100 Costo: €200 Valor: ¥300\"\n",
    "patron = r\"(?<=\\$)\\d+\"  # Números precedidos por $\n",
    "resultados = re.findall(patron, texto)\n",
    "print(f\"Ejemplo 11: {resultados}\")"
   ]
  },
  {
   "cell_type": "markdown",
   "id": "6a0aeaa6",
   "metadata": {},
   "source": [
    "### Ejemplo 2 — Todas las coincidencias (`re.findall`)\n",
    "Extraer todas las direcciones de correo sencillas de un texto."
   ]
  },
  {
   "cell_type": "code",
   "execution_count": 3,
   "id": "6d9eaeac",
   "metadata": {},
   "outputs": [
    {
     "name": "stdout",
     "output_type": "stream",
     "text": [
      "['ana@example.com', 'soporte@ejemplo.org', 'info@test.co']\n"
     ]
    }
   ],
   "source": [
    "# Ejemplo 2\n",
    "import re\n",
    "text = 'Contacta a ana@example.com, soporte@ejemplo.org o info@test.co'\n",
    "emails = re.findall(r'[\\w.-]+@[\\w.-]+\\.\\w+', text)\n",
    "print(emails)\n"
   ]
  },
  {
   "cell_type": "code",
   "execution_count": null,
   "id": "4738787f",
   "metadata": {},
   "outputs": [
    {
     "name": "stdout",
     "output_type": "stream",
     "text": [
      "Ejemplo 4.1: ['colour', 'color', 'color']\n",
      "Ejemplo 4.2: ['color', 'colors']\n"
     ]
    }
   ],
   "source": [
    "# *, +, ?, {n,m}\n",
    "# cuantificadores básicos\n",
    "texto = \"col colour color colors\"\n",
    "patron1 = r\"colou?r\"  # ?: 0 o 1 vez\n",
    "patron2 = r\"colors?\"  # s?: la 's' es opcional\n",
    "print(f\"Ejemplo 4.1: {re.findall(patron1, texto)}\")\n",
    "print(f\"Ejemplo 4.2: {re.findall(patron2, texto)}\")"
   ]
  },
  {
   "cell_type": "code",
   "execution_count": 9,
   "id": "8e52f8b3",
   "metadata": {},
   "outputs": [
    {
     "name": "stdout",
     "output_type": "stream",
     "text": [
      "Ejemplo 5: [('Juan Pérez', '30'), (' María García', '25')]\n"
     ]
    }
   ],
   "source": [
    "# Extraer información estructurada\n",
    "texto = \"Juan Pérez: 30 años, María García: 25 años\"\n",
    "patron = r\"([A-Za-zñÑáéíóúÁÉÍÓÚ\\s]+):\\s*(\\d+)\\s*años\"\n",
    "resultados = re.findall(patron, texto)\n",
    "print(f\"Ejemplo 5: {resultados}\")"
   ]
  },
  {
   "cell_type": "code",
   "execution_count": 10,
   "id": "afda36bb",
   "metadata": {},
   "outputs": [
    {
     "name": "stdout",
     "output_type": "stream",
     "text": [
      "Ejemplo 6: ['123', '789']\n"
     ]
    }
   ],
   "source": [
    "# Usar (?:) para grupos que no queremos capturar\n",
    "texto = \"abc123 xyz789 def456\"\n",
    "patron = r\"(?:abc|xyz)(\\d+)\"  # Solo capturamos los números\n",
    "resultados = re.findall(patron, texto)\n",
    "print(f\"Ejemplo 6: {resultados}\")"
   ]
  },
  {
   "cell_type": "markdown",
   "id": "19fe67b3",
   "metadata": {},
   "source": [
    "### Ejemplo 3 — Iterador con posiciones (`re.finditer`)\n",
    "Obtener las posiciones (span) y el texto de cada coincidencia."
   ]
  },
  {
   "cell_type": "code",
   "execution_count": null,
   "id": "604bd28e",
   "metadata": {},
   "outputs": [],
   "source": [
    "# Ejemplo 3\n",
    "# Ejemplo 3 - Versión detallada\n",
    "import re\n",
    "\n",
    "text = 'aa1 bb22 cc333 dd4444'\n",
    "print(f\"Texto: '{text}'\")\n",
    "print(\"Longitud del texto:\", len(text))\n",
    "\n",
    "# Patrón corregido para buscar números\n",
    "patron = r'\\d+'\n",
    "print(f\"\\nPatrón usado: {patron}\")\n",
    "\n",
    "print(\"\\nResultados:\")\n",
    "for i, match in enumerate(re.finditer(patron, text), 1):\n",
    "    numero = match.group(0)\n",
    "    inicio, fin = match.span()\n",
    "    print(f\"  {i}. Número: '{numero}'\")\n",
    "    print(f\"     Posición: {inicio}-{fin}\")\n",
    "    print(f\"     Contexto: '{text[max(0,inicio-2):fin+2]}'\")"
   ]
  },
  {
   "cell_type": "code",
   "execution_count": 7,
   "id": "afd7d7fa",
   "metadata": {},
   "outputs": [
    {
     "name": "stdout",
     "output_type": "stream",
     "text": [
      "Ejemplo 7: ['Python es genial', 'Python']\n"
     ]
    }
   ],
   "source": [
    "# inicio y fin de linea\n",
    "# ^ para inicio, $ para fin\n",
    "lineas = [\"Python es genial\", \"Me encanta Python\", \"Python\"]\n",
    "patron = r\"^Python\"  # Palabras que empiezan con Python\n",
    "resultados = [linea for linea in lineas if re.search(patron, linea)]\n",
    "print(f\"Ejemplo 7: {resultados}\")"
   ]
  },
  {
   "cell_type": "code",
   "execution_count": 11,
   "id": "04a0ac99",
   "metadata": {},
   "outputs": [
    {
     "name": "stdout",
     "output_type": "stream",
     "text": [
      "Ejemplo 8: ['cat']\n"
     ]
    }
   ],
   "source": [
    "# limites de palabra\n",
    "# \\b para límites de palabra\n",
    "texto = \"cat category catfish concatenate\"\n",
    "patron = r\"\\bcat\\b\"  # Solo la palabra exacta \"cat\"\n",
    "resultados = re.findall(patron, texto)\n",
    "print(f\"Ejemplo 8: {resultados}\")"
   ]
  },
  {
   "cell_type": "markdown",
   "id": "98bb7d07",
   "metadata": {},
   "source": [
    "### Ejemplo 4 — Validación completa (`^...$`)\n",
    "Comprobar si una cadena es exactamente un número de 4 dígitos."
   ]
  },
  {
   "cell_type": "code",
   "execution_count": 13,
   "id": "83d23622",
   "metadata": {},
   "outputs": [
    {
     "name": "stdout",
     "output_type": "stream",
     "text": [
      "False\n",
      "False\n",
      "False\n"
     ]
    }
   ],
   "source": [
    "# Ejemplo 4\n",
    "import re\n",
    "def es_cuatro_digitos(s):\n",
    "    return bool(re.match(r'^\\\\d{4}$', s))\n",
    "\n",
    "print(es_cuatro_digitos('1234'))\n",
    "print(es_cuatro_digitos('01234'))\n",
    "print(es_cuatro_digitos('12a4'))"
   ]
  },
  {
   "cell_type": "markdown",
   "id": "1be3e2b6",
   "metadata": {},
   "source": [
    "### Ejemplo 5 — Grupos y capture groups\n",
    "Extraer día, mes y año de una fecha `DD/MM/YYYY` usando grupos."
   ]
  },
  {
   "cell_type": "code",
   "execution_count": null,
   "id": "f8afe900",
   "metadata": {},
   "outputs": [],
   "source": [
    "# Ejemplo 5\n",
    "import re\n",
    "text = 'Hoy es 05/10/2025 y mañana será 06/10/2025.'\n",
    "pat = re.compile(r'(\\\\d{2})/(\\\\d{2})/(\\\\d{4})')\n",
    "for m in pat.finditer(text):\n",
    "    dia, mes, anio = m.groups()\n",
    "    print(dia, mes, anio)"
   ]
  },
  {
   "cell_type": "markdown",
   "id": "b687a2cd",
   "metadata": {},
   "source": [
    "### Ejemplo 6 — Grupos nombrados\n",
    "Usar grupos nombrados para mayor claridad: `(?P<name>...)`."
   ]
  },
  {
   "cell_type": "code",
   "execution_count": null,
   "id": "bb209d28",
   "metadata": {},
   "outputs": [],
   "source": [
    "# Ejemplo 6\n",
    "import re\n",
    "text = 'Fecha: 07/10/2025'\n",
    "pat = re.compile(r'(?P<dia>\\\\d{2})/(?P<mes>\\\\d{2})/(?P<anio>\\\\d{4})')\n",
    "m = pat.search(text)\n",
    "if m:\n",
    "    print(m.group('dia'), m.group('mes'), m.group('anio'))\n",
    "    print(m.groupdict())\n"
   ]
  },
  {
   "cell_type": "markdown",
   "id": "ef7695ea",
   "metadata": {},
   "source": [
    "### Ejemplo 7 — Reemplazo con `re.sub` (sustituciones)\n",
    "Normalizar formatos de teléfono reemplazando separadores."
   ]
  },
  {
   "cell_type": "code",
   "execution_count": null,
   "id": "170ee880",
   "metadata": {},
   "outputs": [],
   "source": [
    "# Ejemplo 7\n",
    "import re\n",
    "text = 'Teléfonos: 555.1234, 555-2345, 555 3456'\n",
    "normalized = re.sub(r'[.\\\\s-]+', '-', text)\n",
    "print(normalized)\n"
   ]
  },
  {
   "cell_type": "markdown",
   "id": "dd0b4631",
   "metadata": {},
   "source": [
    "### Ejemplo 8 — Splitting con `re.split`\n",
    "Dividir un texto por múltiples separadores (coma, punto y coma, barra)."
   ]
  },
  {
   "cell_type": "code",
   "execution_count": null,
   "id": "33053dc4",
   "metadata": {},
   "outputs": [],
   "source": [
    "# Ejemplo 8\n",
    "import re\n",
    "text = 'manzana, naranja; pera/uva  limón'\n",
    "parts = re.split(r'[,;/\\\\s]+', text)\n",
    "print(parts)\n"
   ]
  },
  {
   "cell_type": "markdown",
   "id": "ca1247a1",
   "metadata": {},
   "source": [
    "### Ejemplo 9 — Flags y `re.IGNORECASE`/`re.MULTILINE`\n",
    "Buscar insensible a mayúsculas y rodeado de anclas multilinea."
   ]
  },
  {
   "cell_type": "code",
   "execution_count": null,
   "id": "8d6782fc",
   "metadata": {},
   "outputs": [],
   "source": [
    "# Ejemplo 9\n",
    "import re\n",
    "text = 'Linea1: start\\nLINEA2: Start\\nLinea3: other'\n",
    "pat = re.compile(r'^start', re.IGNORECASE | re.MULTILINE)\n",
    "print([m.group(0) for m in pat.finditer(text)])\n"
   ]
  },
  {
   "cell_type": "markdown",
   "id": "053e732d",
   "metadata": {},
   "source": [
    "### Ejemplo 10 — Lookahead positivo y negativo\n",
    "Buscar 'foo' seguido por 'bar' (lookahead positivo) y 'foo' no seguido por 'bar' (lookahead negativo)."
   ]
  },
  {
   "cell_type": "code",
   "execution_count": null,
   "id": "016f4a88",
   "metadata": {},
   "outputs": [],
   "source": [
    "# Ejemplo 10\n",
    "import re\n",
    "text = 'foo bar foo baz foo'\n",
    "pos = re.findall(r'foo(?=\\\\sbar)', text)\n",
    "neg = re.findall(r'foo(?!\\\\sbar)', text)\n",
    "print('lookahead +:', pos)\n",
    "print('lookahead -:', neg)\n"
   ]
  },
  {
   "cell_type": "markdown",
   "id": "91e328be",
   "metadata": {},
   "source": [
    "### Ejemplo 11 — Lookbehind (anticipación)\n",
    "Capturar números que estén precedidos por un signo $ (p. ej. precios)."
   ]
  },
  {
   "cell_type": "code",
   "execution_count": null,
   "id": "25b781ad",
   "metadata": {},
   "outputs": [],
   "source": [
    "# Ejemplo 11\n",
    "import re\n",
    "text = 'Costos: $10, $200 y 300'\n",
    "prices = re.findall(r'(?<=\\\\$)\\\\d+', text)\n",
    "print(prices)\n"
   ]
  },
  {
   "cell_type": "markdown",
   "id": "93375ac5",
   "metadata": {},
   "source": [
    "### Ejemplo 12 — Backreferences (referencias a grupos)\n",
    "Detectar palabras duplicadas consecutivas, p. ej. 'la la' usando backreference `\\\\1`."
   ]
  },
  {
   "cell_type": "code",
   "execution_count": null,
   "id": "0bf2958b",
   "metadata": {},
   "outputs": [],
   "source": [
    "# Ejemplo 12\n",
    "import re\n",
    "text = 'Esta es es una prueba. Hola hola mundo.'\n",
    "dups = re.findall(r'\\\\b(\\\\w+)\\\\s+\\\\1\\\\b', text, flags=re.IGNORECASE)\n",
    "print(dups)\n"
   ]
  },
  {
   "cell_type": "markdown",
   "id": "ef117db4",
   "metadata": {},
   "source": [
    "### validacion de email"
   ]
  },
  {
   "cell_type": "code",
   "execution_count": 16,
   "id": "fc241621",
   "metadata": {},
   "outputs": [
    {
     "name": "stdout",
     "output_type": "stream",
     "text": [
      "Ejemplo 12 - usuario@example.com: Válido\n",
      "Ejemplo 12 - invalid.email: Inválido\n",
      "Ejemplo 12 - nombre.apellido@company.co.uk: Válido\n"
     ]
    }
   ],
   "source": [
    "# validacion de email\n",
    "def validar_email(email):\n",
    "    patron = r'^[a-zA-Z0-9._%+-]+@[a-zA-Z0-9.-]+\\.[a-zA-Z]{2,}$'\n",
    "    return bool(re.match(patron, email))\n",
    "\n",
    "emails = [\"usuario@example.com\", \"invalid.email\", \"nombre.apellido@company.co.uk\"]\n",
    "for email in emails:\n",
    "    valido = validar_email(email)\n",
    "    print(f\"Ejemplo 12 - {email}: {'Válido' if valido else 'Inválido'}\")"
   ]
  },
  {
   "cell_type": "markdown",
   "id": "8d132ae1",
   "metadata": {},
   "source": [
    "### Extraccion de url"
   ]
  },
  {
   "cell_type": "code",
   "execution_count": null,
   "id": "3fdf2e77",
   "metadata": {},
   "outputs": [],
   "source": [
    "texto = \"Visita https://www.example.com y http://sub.dominio.org/path\"\n",
    "patron = r'https?://(?:[-\\w.]|(?:%[\\da-fA-F]{2}))+[/\\w\\.-]*'\n",
    "urls = re.findall(patron, texto)\n",
    "print(f\"Ejemplo 13: {urls}\")"
   ]
  },
  {
   "cell_type": "markdown",
   "id": "b72f00c5",
   "metadata": {},
   "source": [
    "### Análisis de logs"
   ]
  },
  {
   "cell_type": "code",
   "execution_count": 17,
   "id": "57ba8a77",
   "metadata": {},
   "outputs": [
    {
     "name": "stdout",
     "output_type": "stream",
     "text": [
      "Ejemplo 14:\n",
      "  2024-01-15 10:30:15 - INFO: User login successful\n",
      "  2024-01-15 10:31:22 - ERROR: Database connection failed\n",
      "  2024-01-15 10:32:45 - WARNING: High memory usage\n"
     ]
    }
   ],
   "source": [
    "log_data = \"\"\"\n",
    "2024-01-15 10:30:15 INFO: User login successful\n",
    "2024-01-15 10:31:22 ERROR: Database connection failed\n",
    "2024-01-15 10:32:45 WARNING: High memory usage\n",
    "\"\"\"\n",
    "\n",
    "patron = r'(\\d{4}-\\d{2}-\\d{2}\\s\\d{2}:\\d{2}:\\d{2})\\s+(\\w+):\\s+(.+)'\n",
    "logs = re.findall(patron, log_data)\n",
    "print(\"Ejemplo 14:\")\n",
    "for timestamp, nivel, mensaje in logs:\n",
    "    print(f\"  {timestamp} - {nivel}: {mensaje}\")"
   ]
  },
  {
   "cell_type": "markdown",
   "id": "f41ddcff",
   "metadata": {},
   "source": [
    "### Ejemplo 13 — Validar una dirección IP (regex intermedia)\n",
    "Validar IPv4 simple (no estricta en rango 0-255, pero bien formada)."
   ]
  },
  {
   "cell_type": "code",
   "execution_count": null,
   "id": "533a6b35",
   "metadata": {},
   "outputs": [],
   "source": [
    "# Ejemplo 13\n",
    "import re\n",
    "ip_pat = re.compile(r'^(?:\\\\d{1,3}\\\\.){3}\\\\d{1,3}$')\n",
    "tests = ['192.168.0.1', '256.100.1.1', '10.0.0', '1.2.3.4']\n",
    "for t in tests:\n",
    "    print(t, bool(ip_pat.match(t)))\n"
   ]
  },
  {
   "cell_type": "markdown",
   "id": "fd4a6582",
   "metadata": {},
   "source": [
    "### Ejemplo 14 — Patrón complejo para fechas (validación básica)\n",
    "Validar formato `YYYY-MM-DD` con rangos simples para mes/día (no perfecto, pero útil)."
   ]
  },
  {
   "cell_type": "code",
   "execution_count": null,
   "id": "006b099e",
   "metadata": {},
   "outputs": [],
   "source": [
    "# Ejemplo 14\n",
    "import re\n",
    "date_pat = re.compile(r'^(\\\\d{4})-(0[1-9]|1[0-2])-(0[1-9]|[12]\\\\d|3[01])$')\n",
    "tests = ['2025-10-22', '2025-13-01', '2025-02-30']\n",
    "for t in tests:\n",
    "    print(t, bool(date_pat.match(t)))\n"
   ]
  },
  {
   "cell_type": "markdown",
   "id": "8b74901e",
   "metadata": {},
   "source": [
    "### Ejemplo 15 — Usar `re.compile` y reutilizar patrón\n",
    "Compilar un patrón con flags y usar `sub` y `finditer` para tareas repetidas."
   ]
  },
  {
   "cell_type": "code",
   "execution_count": null,
   "id": "0a4e2030",
   "metadata": {},
   "outputs": [],
   "source": [
    "# Ejemplo 15\n",
    "import re\n",
    "pattern = re.compile(r'\\\\b(https?)://([\\\\w.-]+)([:\\\\d]*)?(/\\\\S*)?', re.IGNORECASE)\n",
    "text = 'Visita http://example.com, https://sub.domain.org:8080/path?x=1 y también http://test.'\n",
    "for m in pattern.finditer(text):\n",
    "    print(m.groups())\n",
    "\n",
    "# Reusar para reemplazar urls simplificando\n",
    "clean = pattern.sub(r'[URL:\\2]', text)\n",
    "print(clean)\n"
   ]
  },
  {
   "cell_type": "markdown",
   "id": "3c4a7bd0",
   "metadata": {},
   "source": [
    "### Ejemplo 16 — Escapar metacaracteres con `re.escape`\n",
    "Cuando se busca texto literal que puede contener metacaracteres."
   ]
  },
  {
   "cell_type": "code",
   "execution_count": null,
   "id": "b27345eb",
   "metadata": {},
   "outputs": [],
   "source": [
    "# Ejemplo 16\n",
    "import re\n",
    "literal = 'precio? (oferta)*^$'\n",
    "pat = re.compile(re.escape(literal))\n",
    "text = 'El texto contiene precio? (oferta)*^$ y más.'\n",
    "print(bool(pat.search(text)))\n"
   ]
  },
  {
   "cell_type": "markdown",
   "id": "e61484d8",
   "metadata": {},
   "source": [
    "### Ejemplo 17 — Uso de funciones en `re.sub` para transformaciones\n",
    "Reemplazar fechas `DD/MM/YYYY` por `YYYY-MM-DD` usando una función de reemplazo."
   ]
  },
  {
   "cell_type": "code",
   "execution_count": null,
   "id": "f9e24128",
   "metadata": {},
   "outputs": [],
   "source": [
    "# Ejemplo 17\n",
    "import re\n",
    "def reformat(m):\n",
    "    d, mo, y = m.groups()\n",
    "    return f'{y}-{mo}-{d}'\n",
    "\n",
    "text = 'Fechas: 05/10/2025 y 06/11/2024'\n",
    "new = re.sub(r'(\\\\d{2})/(\\\\d{2})/(\\\\d{4})', reformat, text)\n",
    "print(new)\n"
   ]
  },
  {
   "cell_type": "markdown",
   "id": "2032e231",
   "metadata": {},
   "source": [
    "### Ejemplo 18 — Seguridad y límites: evitar backtracking excesivo\n",
    "Cuando uses patrones con cuantificadores y alternancia, sé consciente del rendimiento; usa cuantificadores no-greedy `?` y patrones más específicos cuando sea posible."
   ]
  },
  {
   "cell_type": "code",
   "execution_count": null,
   "id": "40daaee5",
   "metadata": {},
   "outputs": [],
   "source": [
    "# Ejemplo 18 (demostración simple de greediness)\n",
    "import re, time\n",
    "text = '<a>' + 'x'*10000 + '</a>'\n",
    "pat_greedy = re.compile(r'<a>.*</a>')\n",
    "pat_lazy = re.compile(r'<a>.*?</a>')\n",
    "t0 = time.time(); pat_greedy.search(text); g = time.time()-t0\n",
    "t0 = time.time(); pat_lazy.search(text); l = time.time()-t0\n",
    "print('greedy time', g, 'lazy time', l)\n"
   ]
  },
  {
   "cell_type": "markdown",
   "id": "be04ba50",
   "metadata": {},
   "source": [
    "### Procesamiento de texto complejo"
   ]
  },
  {
   "cell_type": "code",
   "execution_count": 18,
   "id": "aee6a33e",
   "metadata": {},
   "outputs": [
    {
     "name": "stdout",
     "output_type": "stream",
     "text": [
      "Ejemplo 15:\n",
      "  Cliente: Juan Pérez\n",
      "  Teléfono: +34 912 345 678\n",
      "\n",
      "  Email: juan.perez@email.com\n",
      "  Pedidos: ['PED-001', 'PED-002', 'PED-005']\n"
     ]
    }
   ],
   "source": [
    "# Extraer información de un texto estructurado\n",
    "texto = \"\"\"\n",
    "Cliente: Juan Pérez\n",
    "Teléfono: +34 912 345 678\n",
    "Email: juan.perez@email.com\n",
    "Pedidos: PED-001, PED-002, PED-005\n",
    "\"\"\"\n",
    "\n",
    "patron_cliente = r\"Cliente:\\s*([^\\n]+)\"\n",
    "patron_telefono = r\"Teléfono:\\s*([+\\d\\s]+)\"\n",
    "patron_email = r\"Email:\\s*([^\\n]+)\"\n",
    "patron_pedidos = r\"Pedidos:\\s*((?:[A-Z]+-\\d+,\\s*)*[A-Z]+-\\d+)\"\n",
    "\n",
    "cliente = re.search(patron_cliente, texto).group(1) if re.search(patron_cliente, texto) else \"No encontrado\"\n",
    "telefono = re.search(patron_telefono, texto).group(1) if re.search(patron_telefono, texto) else \"No encontrado\"\n",
    "email = re.search(patron_email, texto).group(1) if re.search(patron_email, texto) else \"No encontrado\"\n",
    "pedidos_match = re.search(patron_pedidos, texto)\n",
    "pedidos = pedidos_match.group(1).split(', ') if pedidos_match else []\n",
    "\n",
    "print(\"Ejemplo 15:\")\n",
    "print(f\"  Cliente: {cliente}\")\n",
    "print(f\"  Teléfono: {telefono}\")\n",
    "print(f\"  Email: {email}\")\n",
    "print(f\"  Pedidos: {pedidos}\")"
   ]
  },
  {
   "cell_type": "markdown",
   "id": "aa2f9510",
   "metadata": {},
   "source": [
    "### Comparación de Métodos Principales"
   ]
  },
  {
   "cell_type": "code",
   "execution_count": 19,
   "id": "7d4ed7c7",
   "metadata": {},
   "outputs": [
    {
     "name": "stdout",
     "output_type": "stream",
     "text": [
      "Métodos del módulo re:\n",
      "search(): ('3.10',)\n",
      "findall(): ['3.10', '2.7']\n",
      "finditer(): ['Python 3.10', 'Python 2.7']\n",
      "sub(): Java es mejor que Java\n",
      "split(): ['Python', '3.10', 'es', 'mejor', 'que', 'Python', '2.7']\n"
     ]
    }
   ],
   "source": [
    "texto = \"Python 3.10 es mejor que Python 2.7\"\n",
    "patron = r\"Python\\s+(\\d+\\.\\d+)\"\n",
    "\n",
    "print(\"Métodos del módulo re:\")\n",
    "print(f\"search(): {re.search(patron, texto).groups()}\")\n",
    "print(f\"findall(): {re.findall(patron, texto)}\")\n",
    "print(f\"finditer(): {[match.group() for match in re.finditer(patron, texto)]}\")\n",
    "\n",
    "# Reemplazo con sub()\n",
    "nuevo_texto = re.sub(patron, \"Java\", texto)\n",
    "print(f\"sub(): {nuevo_texto}\")\n",
    "\n",
    "# División con split()\n",
    "partes = re.split(r\"\\s+\", texto)\n",
    "print(f\"split(): {partes}\")"
   ]
  },
  {
   "cell_type": "markdown",
   "id": "fa4fd5c1",
   "metadata": {},
   "source": [
    "### Optimización y Mejores Prácticas\n",
    "#### Compilación de Patrones"
   ]
  },
  {
   "cell_type": "code",
   "execution_count": null,
   "id": "6d1135da",
   "metadata": {},
   "outputs": [],
   "source": [
    "# Para patrones que se usan múltiples veces, es mejor compilarlos\n",
    "textos = [\n",
    "    \"Python es rápido\",\n",
    "    \"Java es robusto\", \n",
    "    \"Python es fácil de aprender\"\n",
    "]\n",
    "\n",
    "# Sin compilar\n",
    "for texto in textos:\n",
    "    if re.search(r\"Python\", texto):\n",
    "        print(f\"Sin compilar - Encontrado: {texto}\")\n",
    "\n",
    "# Con compilación (más eficiente)\n",
    "patron_compilado = re.compile(r\"Python\")\n",
    "for texto in textos:\n",
    "    if patron_compilado.search(texto):\n",
    "        print(f\"Con compilación - Encontrado: {texto}\")"
   ]
  },
  {
   "cell_type": "markdown",
   "id": "c6ab20b6",
   "metadata": {},
   "source": [
    "#### Flags útiles en expresiones regulares"
   ]
  },
  {
   "cell_type": "code",
   "execution_count": null,
   "id": "c237fbdf",
   "metadata": {},
   "outputs": [],
   "source": [
    "texto = \"Python\\njava\\nPYTHON\\nJAVA\"\n",
    "\n",
    "# IGNORECASE - Ignorar mayúsculas/minúsculas\n",
    "resultados = re.findall(r\"python\", texto, re.IGNORECASE)\n",
    "print(f\"IGNORECASE: {resultados}\")\n",
    "\n",
    "# MULTILINE - ^ y $ coinciden con inicio/fin de línea\n",
    "resultados = re.findall(r\"^[A-Z]+$\", texto, re.MULTILINE)\n",
    "print(f\"MULTILINE: {resultados}\")\n",
    "\n",
    "# DOTALL - . coincide con cualquier carácter incluyendo \\n\n",
    "html = \"<div>Hola\\nMundo</div>\"\n",
    "resultado = re.search(r\"<div>(.*)</div>\", html, re.DOTALL)\n",
    "print(f\"DOTALL: {resultado.group(1) if resultado else 'No encontrado'}\")"
   ]
  },
  {
   "cell_type": "markdown",
   "id": "5f4fc045",
   "metadata": {},
   "source": [
    "## Buenas prácticas y conclusiones\n",
    "- Usa `re.compile` cuando vayas a reutilizar patrones.\n",
    "- Escapa texto literal con `re.escape`.\n",
    "- Prefiere patrones precisos sobre `.*` para evitar backtracking.\n",
    "- Para validaciones estrictas (ej. IPs, fechas), combina regex con comprobaciones adicionales en Python cuando el patrón sea complejo.\n",
    "- Usa tests y benchmarks si procesas textos grandes.\n",
    "\n",
    "Este cuaderno proporcionó 18 ejemplos prácticos y explicaciones para usar expresiones regulares en Python. Puedes ejecutar cada celda para ver resultados y modificar los patrones para experimentar."
   ]
  }
 ],
 "metadata": {
  "kernelspec": {
   "display_name": ".venv",
   "language": "python",
   "name": "python3"
  },
  "language_info": {
   "codemirror_mode": {
    "name": "ipython",
    "version": 3
   },
   "file_extension": ".py",
   "mimetype": "text/x-python",
   "name": "python",
   "nbconvert_exporter": "python",
   "pygments_lexer": "ipython3",
   "version": "3.12.7"
  }
 },
 "nbformat": 4,
 "nbformat_minor": 5
}
